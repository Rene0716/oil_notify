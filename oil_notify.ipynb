{
  "nbformat": 4,
  "nbformat_minor": 0,
  "metadata": {
    "colab": {
      "provenance": []
    },
    "kernelspec": {
      "name": "python3",
      "display_name": "Python 3"
    },
    "language_info": {
      "name": "python"
    }
  },
  "cells": [
    {
      "cell_type": "code",
      "source": [
        "import urllib.parse\n",
        "import requests\n",
        "import bs4\n",
        "\n",
        "query = urllib.parse.quote_plus('油價格')\n",
        "# print(query)\n",
        "url=f'https://www.ptt.cc/bbs/Lifeismoney/search?q={query}'\n",
        "def get_data(url):\n",
        "    res=requests.get(url,headers={\n",
        "        'User-Agent':'Mozilla/5.0 (Windows NT 10.0; Win64; x64) AppleWebKit/537.36 (KHTML, like Gecko) Chrome/116.0.0.0 Safari/537.36'\n",
        "    })\n",
        "    # print(res.text)\n",
        "    soup=bs4.BeautifulSoup(res.text,'html.parser')\n",
        "    title=soup.select('.title a')[2].text\n",
        "    # print(title)\n",
        "    return title[5:]\n",
        "\n",
        "get_data(url)\n",
        "data=f'{get_data(url)}\\n'+' '*13+'中油小幫手~關心您\\n'+' '*25+'ξ( ✿＞◡❛)~♥'\n",
        "# print(data)\n",
        "\n",
        "def postToLine(token,data):\n",
        "    headers={\n",
        "        \"Authorization\":\"Bearer \"+token,\n",
        "        \"Content-Type\":\"application/x-www-form-urlencoded\"\n",
        "    }\n",
        "    payload={\n",
        "        'message':data,\n",
        "        'imageFile':'images.jpg'\n",
        "    }\n",
        "    url=\"https://notify-api.line.me/api/notify\"\n",
        "    #Post封包給LINE notify\n",
        "    resp=requests.post(\n",
        "        url=url,\n",
        "        headers = headers,\n",
        "        params = payload\n",
        "    )\n",
        "    print(f'res status:{resp.status_code}')\n",
        "    return resp\n",
        "\n",
        "token=\"hFzRAssbbx4XMmwkQ2vTLXrdzWJstTbM2MB8NxEky7k\"\n",
        "resp=postToLine(token,data)\n",
        "print(resp.text)"
      ],
      "metadata": {
        "colab": {
          "base_uri": "https://localhost:8080/"
        },
        "id": "iR-T2Zjsjgjs",
        "outputId": "fd539a8f-c82c-4d1f-9d94-1257ced2867c"
      },
      "execution_count": 23,
      "outputs": [
        {
          "output_type": "stream",
          "name": "stdout",
          "text": [
            "res status:200\n",
            "{\"status\":200,\"message\":\"ok\"}\n"
          ]
        }
      ]
    }
  ]
}