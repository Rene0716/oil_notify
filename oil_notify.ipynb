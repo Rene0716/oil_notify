{
  "cells": [
    {
      "cell_type": "code",
      "execution_count": 23,
      "metadata": {
        "colab": {
          "base_uri": "https://localhost:8080/"
        },
        "id": "iR-T2Zjsjgjs",
        "outputId": "fd539a8f-c82c-4d1f-9d94-1257ced2867c"
      },
      "outputs": [
        {
          "name": "stdout",
          "output_type": "stream",
          "text": [
            "res status:200\n",
            "{\"status\":200,\"message\":\"ok\"}\n"
          ]
        }
      ],
      "source": [
        "import urllib.parse\n",
        "import requests\n",
        "import bs4\n",
        "\n",
        "query = urllib.parse.quote_plus('明')\n",
        "url=f'https://www.ptt.cc/bbs/Lifeismoney/search?q={query}'\n",
        "def get_data(url:str):\n",
        "    \"\"\"\n",
        "    去ptt省錢版get資料來源\n",
        "    \"\"\"\n",
        "    res=requests.get(url,headers={\n",
        "        'User-Agent':'Mozilla/5.0 (Windows NT 10.0; Win64; x64) AppleWebKit/537.36 (KHTML, like Gecko) Chrome/116.0.0.0 Safari/537.36'\n",
        "    })\n",
        "    # print(res.text)\n",
        "    soup=bs4.BeautifulSoup(res.text,'html.parser')\n",
        "    titles=soup.select('.title a')\n",
        "    latest=[titles[0].text for i, title in enumerate(titles)if '[情報]' not in title][0]\n",
        "    print(f'lastest:{latest[5:]}')\n",
        "    return latest[5:]\n",
        "\n",
        "get_data(url)\n",
        "data=f'{get_data(url)}\\n'+' '*13+'中油小幫手~關心您\\n'+' '*25+'ξ( ✿＞◡❛)~♥'\n",
        "\n",
        "def postToLine(token:str,data:str):\n",
        "    \"\"\"\n",
        "    串接line notify api將組好的訊息post到line中\n",
        "    \"\"\"\n",
        "    headers={\n",
        "        \"Authorization\":\"Bearer \"+token,\n",
        "        \"Content-Type\":\"application/x-www-form-urlencoded\"\n",
        "    }\n",
        "    payload={'message':data}\n",
        "    url=\"https://notify-api.line.me/api/notify\"\n",
        "    #Post封包給LINE notify\n",
        "    resp=requests.post(\n",
        "        url=url,\n",
        "        headers = headers,\n",
        "        params = payload\n",
        "    )\n",
        "    # print(f'res status:{resp.status_code}')\n",
        "    # print(type(resp))\n",
        "    return resp\n",
        "    \n",
        "token=\"SvXCFYrVeguNiDkqLKVjtPtoO5LgqmHNRcozCqoLTqv\"\n",
        "resp=postToLine(token,data)\n",
        "print(resp.text)"
      ]
    }
  ],
  "metadata": {
    "colab": {
      "provenance": []
    },
    "kernelspec": {
      "display_name": "Python 3",
      "name": "python3"
    },
    "language_info": {
      "name": "python"
    }
  },
  "nbformat": 4,
  "nbformat_minor": 0
}
